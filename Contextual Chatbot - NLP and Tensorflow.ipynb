{
 "cells": [
  {
   "cell_type": "code",
   "execution_count": 3,
   "metadata": {},
   "outputs": [
    {
     "ename": "ModuleNotFoundError",
     "evalue": "No module named 'tensorflow'",
     "output_type": "error",
     "traceback": [
      "\u001b[1;31m---------------------------------------------------------------------------\u001b[0m",
      "\u001b[1;31mModuleNotFoundError\u001b[0m                       Traceback (most recent call last)",
      "Cell \u001b[1;32mIn[3], line 1\u001b[0m\n\u001b[1;32m----> 1\u001b[0m \u001b[38;5;28;01mimport\u001b[39;00m \u001b[38;5;21;01mtensorflow\u001b[39;00m \u001b[38;5;28;01mas\u001b[39;00m \u001b[38;5;21;01mtf\u001b[39;00m\n\u001b[0;32m      3\u001b[0m \u001b[38;5;66;03m# Used for Contextualization and Other NLP Tasks.\u001b[39;00m\n\u001b[0;32m      4\u001b[0m \u001b[38;5;28;01mfrom\u001b[39;00m \u001b[38;5;21;01mnltk\u001b[39;00m\u001b[38;5;21;01m.\u001b[39;00m\u001b[38;5;21;01mstem\u001b[39;00m\u001b[38;5;21;01m.\u001b[39;00m\u001b[38;5;21;01mlancaster\u001b[39;00m \u001b[38;5;28;01mimport\u001b[39;00m LancasterStemmer\n",
      "\u001b[1;31mModuleNotFoundError\u001b[0m: No module named 'tensorflow'"
     ]
    }
   ],
   "source": [
    "import tensorflow as tf\n",
    "\n",
    "# Used for Contextualization and Other NLP Tasks.\n",
    "from nltk.stem.lancaster import LancasterStemmer\n",
    "stemmer = LancasterStemmer()\n",
    "\n",
    "# Other\n",
    "import json\n",
    "import pickle\n",
    "# warnings.filterwarnings(\"ignore\")\n"
   ]
  },
  {
   "cell_type": "code",
   "execution_count": null,
   "metadata": {},
   "outputs": [
    {
     "name": "stdout",
     "output_type": "stream",
     "text": [
      "Processing the Intents.....\n"
     ]
    }
   ],
   "source": [
    "print(\"Processing the Intents.....\")\n",
    "with open('intents.json') as json_data:\n",
    "    intents = json.load(json_data)"
   ]
  },
  {
   "cell_type": "code",
   "execution_count": null,
   "metadata": {},
   "outputs": [
    {
     "name": "stdout",
     "output_type": "stream",
     "text": [
      "Looping through the Intents to Convert them to words, classes, documents, and ignore_words.......\n"
     ]
    },
    {
     "name": "stderr",
     "output_type": "stream",
     "text": [
      "[nltk_data] Downloading package punkt to C:\\Users\\Prabhu/nltk_data...\n",
      "[nltk_data]   Package punkt is already up-to-date!\n"
     ]
    }
   ],
   "source": [
    "import json\n",
    "import nltk\n",
    "import ssl\n",
    "\n",
    "# Add SSL certificate path (if needed)\n",
    "ssl._create_default_https_context = ssl._create_unverified_context\n",
    "\n",
    "# Load intents from a JSON file\n",
    "with open(r'C:\\Users\\Prabhu\\Desktop\\AI_ChatBot_Python-master\\intents.json') as json_data:\n",
    "    intents = json.load(json_data)\n",
    "\n",
    "\n",
    "# Download punkt tokenizer data\n",
    "nltk.download('punkt')\n",
    "\n",
    "# Rest of your code\n",
    "words = []\n",
    "classes = []\n",
    "documents = []\n",
    "ignore_words = ['?']\n",
    "print(\"Looping through the Intents to Convert them to words, classes, documents, and ignore_words.......\")\n",
    "for intent in intents['intents']:\n",
    "    for pattern in intent['patterns']:\n",
    "        # tokenize each word in the sentence\n",
    "        w = nltk.word_tokenize(pattern)\n",
    "        # add to our words list\n",
    "        words.extend(w)\n",
    "        # add to documents in our corpus\n",
    "        documents.append((w, intent['tag']))\n",
    "        # add to our classes list\n",
    "        if intent['tag'] not in classes:\n",
    "            classes.append(intent['tag'])\n"
   ]
  },
  {
   "cell_type": "code",
   "execution_count": null,
   "metadata": {},
   "outputs": [
    {
     "name": "stdout",
     "output_type": "stream",
     "text": [
      "Looping through the Intents to Convert them to words, classes, documents, and ignore_words.......\n"
     ]
    },
    {
     "name": "stderr",
     "output_type": "stream",
     "text": [
      "[nltk_data] Downloading package punkt to C:\\Users\\Prabhu/nltk_data...\n",
      "[nltk_data]   Package punkt is already up-to-date!\n"
     ]
    }
   ],
   "source": [
    "import nltk\n",
    "import ssl\n",
    "\n",
    "# Add SSL certificate path (if needed)\n",
    "ssl._create_default_https_context = ssl._create_unverified_context\n",
    "\n",
    "# Download punkt tokenizer data\n",
    "nltk.download('punkt')\n",
    "\n",
    "# Rest of your code\n",
    "words = []\n",
    "classes = []\n",
    "documents = []\n",
    "ignore_words = ['?']\n",
    "print(\"Looping through the Intents to Convert them to words, classes, documents, and ignore_words.......\")\n",
    "for intent in intents['intents']:\n",
    "    for pattern in intent['patterns']:\n",
    "        # tokenize each word in the sentence\n",
    "        w = nltk.word_tokenize(pattern)\n",
    "        # add to our words list\n",
    "        words.extend(w)\n",
    "        # add to documents in our corpus\n",
    "        documents.append((w, intent['tag']))\n",
    "        # add to our classes list\n",
    "        if intent['tag'] not in classes:\n",
    "            classes.append(intent['tag'])\n"
   ]
  },
  {
   "cell_type": "code",
   "execution_count": null,
   "metadata": {},
   "outputs": [],
   "source": [
    "# import nltk\n",
    "# import os\n",
    "\n",
    "# nltk.data.path.append('/path/to/downloaded/nltk_data')\n",
    "# home_dir = os.path.expanduser(\"~\")\n",
    "# nltk.data.path.append(os.path.join(home_dir, 'nltk_data'))\n",
    "# nltk.download('punkt', download_dir=os.path.join(home_dir, 'nltk_data'))\n",
    "\n",
    "# # Download the punkt tokenizer data\n",
    "# nltk.download('punkt')\n",
    "# nltk.download_shell()\n",
    "\n",
    "# words = []\n",
    "# classes = []\n",
    "# documents = []\n",
    "# ignore_words = ['?']\n",
    "# print(\"Looping through the Intents to Convert them to words, classes, documents, and ignore_words.......\")\n",
    "# for intent in intents['intents']:\n",
    "#     for pattern in intent['patterns']:\n",
    "#         # tokenize each word in the sentence\n",
    "#         w = nltk.word_tokenize(pattern)\n",
    "#         # add to our words list\n",
    "#         words.extend(w)\n",
    "#         # add to documents in our corpus\n",
    "#         documents.append((w, intent['tag']))\n",
    "#         # add to our classes list\n",
    "#         if intent['tag'] not in classes:\n",
    "#             classes.append(intent['tag'])\n"
   ]
  },
  {
   "cell_type": "code",
   "execution_count": null,
   "metadata": {},
   "outputs": [],
   "source": [
    "# import nltk\n",
    "# from nltk.stem.lancaster import LancasterStemmer\n",
    "# stemmer = LancasterStemmer()\n",
    "\n",
    "# print(\"Stemming, Lowering and Removing Duplicates.......\")\n",
    "# words = [stemmer.stem(w.lower()) for w in words if w not in ignore_words]\n",
    "# words = sorted(list(set(words)))\n",
    "\n",
    "# # remove duplicates\n",
    "# classes = sorted(list(set(classes)))\n",
    "\n",
    "# print (len(documents), \"documents\")\n",
    "# print (len(classes), \"classes\", classes)\n",
    "# print (len(words), \"unique stemmed words\", words)"
   ]
  },
  {
   "cell_type": "code",
   "execution_count": null,
   "metadata": {},
   "outputs": [],
   "source": [
    "# print(\"Creating the Data for our Model.....\")\n",
    "# training = []\n",
    "# output = []\n",
    "# print(\"Creating an List (Empty) for Output.....\")\n",
    "# output_empty = [0] * len(classes)\n",
    "\n",
    "# print(\"Creating Traning Set, Bag of Words for our Model....\")\n",
    "# for doc in documents:\n",
    "#     # initialize our bag of words\n",
    "#     bag = []\n",
    "#     # list of tokenized words for the pattern\n",
    "#     pattern_words = doc[0]\n",
    "#     # stem each word\n",
    "#     pattern_words = [stemmer.stem(word.lower()) for word in pattern_words]\n",
    "#     # create our bag of words array\n",
    "#     for w in words:\n",
    "#         bag.append(1) if w in pattern_words else bag.append(0)\n",
    "\n",
    "#     # output is a '0' for each tag and '1' for current tag\n",
    "#     output_row = list(output_empty)\n",
    "#     output_row[classes.index(doc[1])] = 1\n",
    "\n",
    "#     training.append([bag, output_row])"
   ]
  },
  {
   "cell_type": "code",
   "execution_count": null,
   "metadata": {},
   "outputs": [
    {
     "name": "stdout",
     "output_type": "stream",
     "text": [
      "Stemming, Lowering and Removing Duplicates.......\n",
      "Creating the Data for our Model.....\n",
      "Creating an List (Empty) for Output.....\n",
      "Creating Traning Set, Bag of Words for our Model....\n"
     ]
    }
   ],
   "source": [
    "import nltk\n",
    "from nltk.stem import LancasterStemmer\n",
    "\n",
    "# Sample data (replace this with your actual data)\n",
    "documents = [\n",
    "    (['list', 'of', 'words'], 'class1'),\n",
    "    (['another', 'set', 'of', 'words'], 'class2'),\n",
    "    # Add more data as needed\n",
    "]\n",
    "\n",
    "# List of words to ignore\n",
    "ignore_words = ['?']\n",
    "\n",
    "# Stemmer\n",
    "stemmer = LancasterStemmer()\n",
    "\n",
    "# Extract words from documents\n",
    "all_words = [word for doc, _ in documents for word in doc]\n",
    "\n",
    "# Stemming, Lowering, and Removing Duplicates\n",
    "print(\"Stemming, Lowering and Removing Duplicates.......\")\n",
    "words = [stemmer.stem(w.lower()) for w in all_words if w not in ignore_words]\n",
    "words = sorted(list(set(words)))\n",
    "classes = list(set([doc[1] for doc in documents]))\n",
    "\n",
    "# Creating the Data for our Model\n",
    "print(\"Creating the Data for our Model.....\")\n",
    "training = []\n",
    "output = []\n",
    "print(\"Creating an List (Empty) for Output.....\")\n",
    "output_empty = [0] * len(classes)\n",
    "\n",
    "print(\"Creating Traning Set, Bag of Words for our Model....\")\n",
    "for doc in documents:\n",
    "    # initialize our bag of words\n",
    "    bag = []\n",
    "    # list of tokenized words for the pattern\n",
    "    pattern_words = doc[0]\n",
    "    # stem each word\n",
    "    pattern_words = [stemmer.stem(word.lower()) for word in pattern_words]\n",
    "    # create our bag of words array\n",
    "    for w in words:\n",
    "        bag.append(1) if w in pattern_words else bag.append(0)\n",
    "\n",
    "    # output is a '0' for each tag and '1' for the current tag\n",
    "    output_row = list(output_empty)\n",
    "    output_row[classes.index(doc[1])] = 1\n",
    "\n",
    "    training.append([bag, output_row])\n",
    "\n"
   ]
  },
  {
   "cell_type": "code",
   "execution_count": null,
   "metadata": {},
   "outputs": [
    {
     "name": "stdout",
     "output_type": "stream",
     "text": [
      "WARNING:tensorflow:From c:\\Users\\Prabhu\\AppData\\Local\\Programs\\Python\\Python310\\lib\\site-packages\\tensorflow\\python\\keras\\initializers\\initializers_v1.py:66: calling RandomUniform.__init__ (from tensorflow.python.ops.init_ops) with dtype is deprecated and will be removed in a future version.\n",
      "Instructions for updating:\n",
      "Call initializer instance with the dtype argument instead of passing it to the constructor\n"
     ]
    },
    {
     "name": "stdout",
     "output_type": "stream",
     "text": [
      "Train on 3 samples, validate on 1 samples\n",
      "Epoch 1/10\n",
      "3/3 [==============================] - 0s 53ms/sample - loss: 1.3864 - acc: 0.3333 - val_loss: 1.4435 - val_acc: 0.0000e+00\n",
      "Epoch 2/10\n",
      "3/3 [==============================] - 0s 1ms/sample - loss: 1.3721 - acc: 0.3333 - val_loss: 1.4448 - val_acc: 0.0000e+00\n",
      "Epoch 3/10\n",
      "3/3 [==============================] - 0s 1000us/sample - loss: 1.3598 - acc: 0.3333 - val_loss: 1.4461 - val_acc: 0.0000e+00\n",
      "Epoch 4/10\n",
      "3/3 [==============================] - 0s 1ms/sample - loss: 1.3476 - acc: 0.6667 - val_loss: 1.4475 - val_acc: 0.0000e+00\n",
      "Epoch 5/10\n",
      "3/3 [==============================] - 0s 1ms/sample - loss: 1.3352 - acc: 0.6667 - val_loss: 1.4486 - val_acc: 0.0000e+00\n",
      "Epoch 6/10\n",
      "3/3 [==============================] - 0s 1ms/sample - loss: 1.3230 - acc: 0.6667 - val_loss: 1.4493 - val_acc: 0.0000e+00\n",
      "Epoch 7/10\n",
      "3/3 [==============================] - 0s 1ms/sample - loss: 1.3132 - acc: 0.6667 - val_loss: 1.4498 - val_acc: 0.0000e+00\n",
      "Epoch 8/10\n",
      "3/3 [==============================] - 0s 1000us/sample - loss: 1.3032 - acc: 0.6667 - val_loss: 1.4503 - val_acc: 0.0000e+00\n",
      "Epoch 9/10\n",
      "3/3 [==============================] - 0s 1ms/sample - loss: 1.2931 - acc: 0.6667 - val_loss: 1.4507 - val_acc: 0.0000e+00\n",
      "Epoch 10/10\n",
      "3/3 [==============================] - 0s 1000us/sample - loss: 1.2828 - acc: 0.6667 - val_loss: 1.4511 - val_acc: 0.0000e+00\n"
     ]
    },
    {
     "name": "stderr",
     "output_type": "stream",
     "text": [
      "c:\\Users\\Prabhu\\AppData\\Local\\Programs\\Python\\Python310\\lib\\site-packages\\tensorflow\\python\\keras\\engine\\training.py:2455: UserWarning: `Model.state_updates` will be removed in a future version. This property should not be used in TensorFlow 2.0, as `updates` are applied automatically.\n",
      "  warnings.warn('`Model.state_updates` will be removed in a future version. '\n"
     ]
    },
    {
     "data": {
      "text/plain": [
       "<tensorflow.python.keras.callbacks.History at 0x251e1cc79d0>"
      ]
     },
     "execution_count": 13,
     "metadata": {},
     "output_type": "execute_result"
    }
   ],
   "source": [
    "import random\n",
    "from keras.utils import pad_sequences\n",
    "import numpy as np\n",
    "import tensorflow as tf\n",
    "from tensorflow.python.keras import Sequential\n",
    "from tensorflow.python.keras.layers import Dense,Embedding, Flatten\n",
    "# Example training data\n",
    "training_data = [\n",
    "    (['hello', 'how', 'are', 'you'], 'greeting'),\n",
    "    (['what', 'is', 'your', 'name'], 'greeting'),\n",
    "    (['tell', 'me', 'a', 'joke'], 'humor'),\n",
    "    (['how', 'does', 'photosynthesis', 'work'], 'science'),\n",
    "    # Add more samples as needed\n",
    "]\n",
    "\n",
    "# Extract words and labels\n",
    "words = set(word for seq, _ in training_data for word in seq)\n",
    "labels = set(label for _, label in training_data)\n",
    "\n",
    "# Create word and label indices\n",
    "word_indices = {word: i for i, word in enumerate(words)}\n",
    "label_indices = {label: i for i, label in enumerate(labels)}\n",
    "\n",
    "# Convert sequences to indices\n",
    "indexed_data = [([word_indices[word] for word in seq], label_indices[label]) for seq, label in training_data]\n",
    "# Separate sequences and labels\n",
    "sequences, labels = zip(*indexed_data)\n",
    "\n",
    "# Pad sequences to a fixed length\n",
    "max_length = max(len(seq) for seq in sequences)\n",
    "padded_sequences = pad_sequences(sequences, padding='post', maxlen=max_length)\n",
    "\n",
    "# Combine padded sequences and labels\n",
    "padded_training = np.column_stack((padded_sequences, labels))\n",
    "\n",
    "# Shuffle the data\n",
    "np.random.shuffle(padded_training)\n",
    "\n",
    "# Separate into input (train_x) and output (train_y)\n",
    "train_x = np.array(list(padded_training[:, :-1]))  # Exclude the last column (labels)\n",
    "train_y = np.array(list(padded_training[:, -1]))   # Take only the last column (labels)\n",
    "\n",
    "# Pad sequences to a fixed length\n",
    "# max_length = max(len(seq) for seq, _ in indexed_data)\n",
    "# padded_training = [(pad_sequences([seq], padding='post', maxlen=max_length)[0], label) for seq, label in indexed_data]\n",
    "\n",
    "# Convert to NumPy array\n",
    "# padded_training = np.array(padded_training)\n",
    "\n",
    "# Shuffle the data\n",
    "# np.random.shuffle(padded_training)\n",
    "\n",
    "# Separate into input (train_x) and output (train_y)\n",
    "# train_x = np.array(list(padded_training[:, 0]))\n",
    "# train_y = np.array(list(padded_training[:, 1]))\n",
    "\n",
    "# Assuming you have defined the architecture of your neural network\n",
    "# Replace the following with your own architecture\n",
    "embedding_dim = 50  # Change this based on your preference\n",
    "model = Sequential()\n",
    "model.add(Embedding(input_dim=len(words), output_dim=embedding_dim, input_length=max_length))\n",
    "model.add(Flatten())\n",
    "model.add(Dense(8, activation='relu'))\n",
    "model.add(Dense(len(labels), activation='softmax'))  # Adjust the output layer based on the number of labels\n",
    "\n",
    "# Compile the model\n",
    "model.compile(optimizer='adam', loss='sparse_categorical_crossentropy', metrics=['accuracy'])\n",
    "\n",
    "# Train the model\n",
    "epochs = 10\n",
    "batch_size = 32\n",
    "model.fit(train_x, train_y, epochs=epochs, batch_size=batch_size, validation_split=0.2)\n"
   ]
  },
  {
   "cell_type": "code",
   "execution_count": null,
   "metadata": {},
   "outputs": [
    {
     "name": "stdout",
     "output_type": "stream",
     "text": [
      "Creating Train and Test Lists.....\n",
      "Shuffling Randomly and Converting into Numpy Array for Faster Processing......\n"
     ]
    },
    {
     "ename": "ValueError",
     "evalue": "setting an array element with a sequence. The requested array has an inhomogeneous shape after 2 dimensions. The detected shape was (2, 2) + inhomogeneous part.",
     "output_type": "error",
     "traceback": [
      "\u001b[1;31m---------------------------------------------------------------------------\u001b[0m",
      "\u001b[1;31mValueError\u001b[0m                                Traceback (most recent call last)",
      "Cell \u001b[1;32mIn[5], line 22\u001b[0m\n\u001b[0;32m     20\u001b[0m \u001b[38;5;28mprint\u001b[39m(\u001b[38;5;124m\"\u001b[39m\u001b[38;5;124mShuffling Randomly and Converting into Numpy Array for Faster Processing......\u001b[39m\u001b[38;5;124m\"\u001b[39m)\n\u001b[0;32m     21\u001b[0m random\u001b[38;5;241m.\u001b[39mshuffle(training)\n\u001b[1;32m---> 22\u001b[0m training \u001b[38;5;241m=\u001b[39m \u001b[43mnp\u001b[49m\u001b[38;5;241;43m.\u001b[39;49m\u001b[43marray\u001b[49m\u001b[43m(\u001b[49m\u001b[43mtraining\u001b[49m\u001b[43m)\u001b[49m\n\u001b[0;32m     24\u001b[0m \u001b[38;5;28mprint\u001b[39m(\u001b[38;5;124m\"\u001b[39m\u001b[38;5;124mBuilding Neural Network for Our Chatbot to be Contextual....\u001b[39m\u001b[38;5;124m\"\u001b[39m)\n\u001b[0;32m     25\u001b[0m \u001b[38;5;28mprint\u001b[39m(\u001b[38;5;124m\"\u001b[39m\u001b[38;5;124mResetting graph data....\u001b[39m\u001b[38;5;124m\"\u001b[39m)\n",
      "\u001b[1;31mValueError\u001b[0m: setting an array element with a sequence. The requested array has an inhomogeneous shape after 2 dimensions. The detected shape was (2, 2) + inhomogeneous part."
     ]
    }
   ],
   "source": [
    "# import random\n",
    "# import numpy as np\n",
    "# import tensorflow as tf\n",
    "# from tflearn.layers.core import input_data, fully_connected\n",
    "# from tflearn.layers.estimator import regression\n",
    "# from tflearn import DNN\n",
    "# from tensorflow.keras.preprocessing import sequence\n",
    "\n",
    "\n",
    "# # Assuming you have loaded your training data into 'training' variable\n",
    "# training = [\n",
    "#     ([1, 2, 3], [0, 1]),\n",
    "#     ([4, 5, 6], [1, 0]),\n",
    "#     # More training examples\n",
    "# ]\n",
    "\n",
    "\n",
    "# print(\"Creating Train and Test Lists.....\")\n",
    "# train_x = [item[0] for item in training]\n",
    "# train_y = [item[1] for item in training]\n",
    "\n",
    "# print(\"Shuffling Randomly and Converting into Numpy Array for Faster Processing......\")\n",
    "# random.shuffle(training)\n",
    "# training = np.array(training)\n",
    "\n",
    "# print(\"Building Neural Network for Our Chatbot to be Contextual....\")\n",
    "# print(\"Resetting graph data....\")\n",
    "# tf.reset_default_graph()\n",
    "\n",
    "# # Define your neural network architecture using tflearn\n",
    "# net = input_data(shape=[None, len(train_x[0])])\n",
    "# net = fully_connected(net, 8)\n",
    "# net = fully_connected(net, 8)\n",
    "# net = fully_connected(net, len(train_y[0]), activation='softmax')\n",
    "# net = regression(net)\n",
    "\n",
    "# # Create a DNN model\n",
    "# model = DNN(net, tensorboard_dir='tflearn_logs')\n"
   ]
  },
  {
   "cell_type": "code",
   "execution_count": null,
   "metadata": {},
   "outputs": [
    {
     "name": "stdout",
     "output_type": "stream",
     "text": [
      "Creating Traning Set, Bag of Words for our Model....\n"
     ]
    }
   ],
   "source": [
    "# Assuming bag_length is the fixed length of your bag-of-words representation\n",
    "bag_length = len(words)\n",
    "\n",
    "# Creating Traning Set, Bag of Words for our Model\n",
    "print(\"Creating Traning Set, Bag of Words for our Model....\")\n",
    "for doc in documents:\n",
    "    # initialize our bag of words\n",
    "    bag = []\n",
    "    # list of tokenized words for the pattern\n",
    "    pattern_words = doc[0]\n",
    "    # stem each word\n",
    "    pattern_words = [stemmer.stem(word.lower()) for word in pattern_words]\n",
    "    # create our bag of words array\n",
    "    for w in words:\n",
    "        bag.append(1) if w in pattern_words else bag.append(0)\n",
    "\n",
    "    # output is a '0' for each tag and '1' for the current tag\n",
    "    output_row = list(output_empty)\n",
    "    output_row[classes.index(doc[1])] = 1\n",
    "\n",
    "    # Ensure that the bag has a fixed length (pad or truncate if necessary)\n",
    "    bag = bag[:bag_length] + [0] * (bag_length - len(bag))\n",
    "\n",
    "    training.append([bag, output_row])\n"
   ]
  },
  {
   "cell_type": "code",
   "execution_count": null,
   "metadata": {},
   "outputs": [],
   "source": [
    "# Convert patterns to sequences of indices\n",
    "sequences = []\n",
    "\n",
    "# Create a dictionary mapping lowercase words to indices\n",
    "word_indices_lower = {word.lower(): index for word, index in word_indices.items()}\n",
    "\n",
    "for pattern, tag in documents:\n",
    "    # Convert words to lowercase in the pattern\n",
    "    lowercase_pattern = [word.lower() for word in pattern]\n",
    "    \n",
    "    # Look up indices for lowercase words, skipping unknown words\n",
    "    sequence = [word_indices_lower.get(word, None) for word in lowercase_pattern]\n",
    "    \n",
    "    # Remove None values (unknown words) from the sequence\n",
    "    sequence = [index for index in sequence if index is not None]\n",
    "\n",
    "    sequences.append((sequence, tag))\n",
    "\n",
    "\n"
   ]
  },
  {
   "cell_type": "code",
   "execution_count": null,
   "metadata": {},
   "outputs": [
    {
     "name": "stdout",
     "output_type": "stream",
     "text": [
      "WARNING:tensorflow:From c:\\Users\\Prabhu\\AppData\\Local\\Programs\\Python\\Python310\\lib\\site-packages\\tflearn\\initializations.py:164: calling TruncatedNormal.__init__ (from tensorflow.python.ops.init_ops) with dtype is deprecated and will be removed in a future version.\n",
      "Instructions for updating:\n",
      "Call initializer instance with the dtype argument instead of passing it to the constructor\n"
     ]
    },
    {
     "ename": "TypeError",
     "evalue": "object of type 'numpy.int32' has no len()",
     "output_type": "error",
     "traceback": [
      "\u001b[1;31m---------------------------------------------------------------------------\u001b[0m",
      "\u001b[1;31mTypeError\u001b[0m                                 Traceback (most recent call last)",
      "Cell \u001b[1;32mIn[16], line 5\u001b[0m\n\u001b[0;32m      3\u001b[0m net \u001b[38;5;241m=\u001b[39m tflearn\u001b[38;5;241m.\u001b[39mfully_connected(net, \u001b[38;5;241m8\u001b[39m)\n\u001b[0;32m      4\u001b[0m net \u001b[38;5;241m=\u001b[39m tflearn\u001b[38;5;241m.\u001b[39mfully_connected(net, \u001b[38;5;241m8\u001b[39m)\n\u001b[1;32m----> 5\u001b[0m net \u001b[38;5;241m=\u001b[39m tflearn\u001b[38;5;241m.\u001b[39mfully_connected(net, \u001b[38;5;28;43mlen\u001b[39;49m\u001b[43m(\u001b[49m\u001b[43mtrain_y\u001b[49m\u001b[43m[\u001b[49m\u001b[38;5;241;43m0\u001b[39;49m\u001b[43m]\u001b[49m\u001b[43m)\u001b[49m, activation\u001b[38;5;241m=\u001b[39m\u001b[38;5;124m'\u001b[39m\u001b[38;5;124msoftmax\u001b[39m\u001b[38;5;124m'\u001b[39m)\n\u001b[0;32m      6\u001b[0m net \u001b[38;5;241m=\u001b[39m tflearn\u001b[38;5;241m.\u001b[39mregression(net)\n\u001b[0;32m      7\u001b[0m \u001b[38;5;28mprint\u001b[39m(\u001b[38;5;124m\"\u001b[39m\u001b[38;5;124mTraining....\u001b[39m\u001b[38;5;124m\"\u001b[39m)\n",
      "\u001b[1;31mTypeError\u001b[0m: object of type 'numpy.int32' has no len()"
     ]
    }
   ],
   "source": [
    "# import tflearn\n",
    "# net = tflearn.input_data(shape=[None, len(train_x[0])])\n",
    "# net = tflearn.fully_connected(net, 8)\n",
    "# net = tflearn.fully_connected(net, 8)\n",
    "# net = tflearn.fully_connected(net, len(train_y[0]), activation='softmax')\n",
    "# net = tflearn.regression(net)\n",
    "# print(\"Training....\")"
   ]
  },
  {
   "cell_type": "code",
   "execution_count": null,
   "metadata": {},
   "outputs": [],
   "source": [
    "# Find the maximum length of sequences in your training data\n",
    "max_length_of_your_sequences = max(len(seq) for seq in train_x)\n",
    "\n",
    "# Pad sequences to a fixed length\n",
    "train_x = pad_sequences(train_x, padding='post', maxlen=max_length_of_your_sequences)\n",
    "\n",
    "# Convert to NumPy array\n",
    "train_x = np.array(train_x)\n",
    "train_y = np.array(train_y)\n",
    "\n",
    "\n"
   ]
  },
  {
   "cell_type": "code",
   "execution_count": null,
   "metadata": {},
   "outputs": [],
   "source": [
    "import tflearn\n",
    "model = tflearn.DNN(net, tensorboard_dir='tflearn_logs')"
   ]
  },
  {
   "cell_type": "code",
   "execution_count": null,
   "metadata": {},
   "outputs": [],
   "source": [
    "# print(\"Training the Model.......\")\n",
    "# model.fit(train_x, train_y, n_epoch=1000, batch_size=8, show_metric=True)\n",
    "# print(\"Saving the Model.......\")\n",
    "# model.save('model.tflearn')\n"
   ]
  },
  {
   "cell_type": "code",
   "execution_count": null,
   "metadata": {},
   "outputs": [
    {
     "name": "stdout",
     "output_type": "stream",
     "text": [
      "Pickle is also Saved..........\n"
     ]
    }
   ],
   "source": [
    "print(\"Pickle is also Saved..........\")\n",
    "pickle.dump( {'words':words, 'classes':classes, 'train_x':train_x, 'train_y':train_y}, open( \"training_data\", \"wb\" ) )"
   ]
  },
  {
   "cell_type": "code",
   "execution_count": null,
   "metadata": {},
   "outputs": [],
   "source": [
    "# print(\"Loading Pickle.....\")\n",
    "# data = pickle.load( open( \"training_data\", \"rb\" ) )\n",
    "# words = data['words']\n",
    "# classes = data['classes']\n",
    "# train_x = data['train_x']\n",
    "# train_y = data['train_y']\n",
    "\n",
    "\n",
    "# with open('intents.json') as json_data:\n",
    "#     intents = json.load(json_data)\n",
    "    \n",
    "# print(\"Loading the Model......\")\n",
    "# # load our saved model\n",
    "# model.load('./model.tflearn')"
   ]
  },
  {
   "cell_type": "code",
   "execution_count": null,
   "metadata": {},
   "outputs": [
    {
     "name": "stdout",
     "output_type": "stream",
     "text": [
      "ERROR_THRESHOLD = 0.25\n"
     ]
    }
   ],
   "source": [
    "def clean_up_sentence(sentence):\n",
    "    # It Tokenize or Break it into the constituents parts of Sentense.\n",
    "    sentence_words = nltk.word_tokenize(sentence)\n",
    "    # Stemming means to find the root of the word.\n",
    "    sentence_words = [stemmer.stem(word.lower()) for word in sentence_words]\n",
    "    return sentence_words\n",
    "\n",
    "# Return the Array of Bag of Words: True or False and 0 or 1 for each word of bag that exists in the Sentence\n",
    "def bow(sentence, words, show_details=False):\n",
    "    sentence_words = clean_up_sentence(sentence)\n",
    "    bag = [0]*len(words)\n",
    "    for s in sentence_words:\n",
    "        for i,w in enumerate(words):\n",
    "            if w == s:\n",
    "                bag[i] = 1\n",
    "                if show_details:\n",
    "                    print (\"found in bag: %s\" % w)\n",
    "    return(np.array(bag))\n",
    "\n",
    "ERROR_THRESHOLD = 0.25\n",
    "print(\"ERROR_THRESHOLD = 0.25\")\n",
    "\n",
    "def classify(sentence):\n",
    "    # Prediction or To Get the Posibility or Probability from the Model\n",
    "    results = model.predict([bow(sentence, words)])[0]\n",
    "    # Exclude those results which are Below Threshold\n",
    "    results = [[i,r] for i,r in enumerate(results) if r>ERROR_THRESHOLD]\n",
    "    # Sorting is Done because heigher Confidence Answer comes first.\n",
    "    results.sort(key=lambda x: x[1], reverse=True)\n",
    "    return_list = []\n",
    "    for r in results:\n",
    "        return_list.append((classes[r[0]], r[1])) #Tuppl -> Intent and Probability\n",
    "    return return_list\n",
    "\n",
    "def response(sentence, userID='123', show_details=False):\n",
    "    results = classify(sentence)\n",
    "    # That Means if Classification is Done then Find the Matching Tag.\n",
    "    if results:\n",
    "        # Long Loop to get the Result.\n",
    "        while results:\n",
    "            for i in intents['intents']:\n",
    "                # Tag Finding\n",
    "                if i['tag'] == results[0][0]:\n",
    "                    # Random Response from High Order Probabilities\n",
    "                    return print(random.choice(i['responses']))\n",
    "\n",
    "            results.pop(0)"
   ]
  },
  {
   "cell_type": "code",
   "execution_count": null,
   "metadata": {},
   "outputs": [
    {
     "name": "stdout",
     "output_type": "stream",
     "text": [
      "Bot: How can I help you?\n"
     ]
    }
   ],
   "source": [
    "import random\n",
    "\n",
    "# Sample responses\n",
    "responses = [\"Hello!\", \"How can I help you?\", \"Goodbye!\", \"I'm not sure.\", \"Tell me more.\"]\n",
    "\n",
    "# Define the response function\n",
    "def response(sentence):\n",
    "    return random.choice(responses)\n",
    "\n",
    "# Run the while loop\n",
    "while True:\n",
    "    input_data = input(\"You- \")\n",
    "    answer = response(input_data)\n",
    "    print(\"Bot:\", answer)\n",
    "\n"
   ]
  }
 ],
 "metadata": {
  "kernelspec": {
   "display_name": "Python 3",
   "language": "python",
   "name": "python3"
  },
  "language_info": {
   "codemirror_mode": {
    "name": "ipython",
    "version": 3
   },
   "file_extension": ".py",
   "mimetype": "text/x-python",
   "name": "python",
   "nbconvert_exporter": "python",
   "pygments_lexer": "ipython3",
   "version": "3.11.5"
  }
 },
 "nbformat": 4,
 "nbformat_minor": 2
}
